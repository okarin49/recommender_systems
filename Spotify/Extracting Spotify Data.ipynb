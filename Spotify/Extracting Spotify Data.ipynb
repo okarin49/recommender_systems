{
 "cells": [
  {
   "cell_type": "markdown",
   "metadata": {
    "id": "Zow_HQNFjOdx"
   },
   "source": [
    "Extracting Spotify data on your favorites artists"
   ]
  },
  {
   "cell_type": "markdown",
   "metadata": {},
   "source": [
    "We extracted data containing all the albums of 80 artists and here is a code example for the artist J Cole. It should be noted that this data request was made 80 times, each time changing the artist name. "
   ]
  },
  {
   "cell_type": "markdown",
   "metadata": {
    "id": "zfGhhg32juei"
   },
   "source": [
    "1. Set up modules and variables"
   ]
  },
  {
   "cell_type": "code",
   "execution_count": 4,
   "metadata": {
    "executionInfo": {
     "elapsed": 221,
     "status": "ok",
     "timestamp": 1625152395255,
     "user": {
      "displayName": "Yves Moidja",
      "photoUrl": "",
      "userId": "13896130901347586883"
     },
     "user_tz": -120
    },
    "id": "gU92ICK5j8iq"
   },
   "outputs": [],
   "source": [
    "# pip install spotipy\n",
    "import spotipy\n",
    "from spotipy.oauth2 import SpotifyClientCredentials #To access authorised Spotify data\n",
    "client_id = \"f42cda6fa1704c4e811575265066eb35\"\n",
    "client_secret = \"a7952acf07b44cf1a56a4b7022a89d9b\"\n",
    "client_credentials_manager = SpotifyClientCredentials(client_id=client_id, client_secret=client_secret)\n",
    "sp = spotipy.Spotify(client_credentials_manager=client_credentials_manager) #spotify object to access API\n"
   ]
  },
  {
   "cell_type": "markdown",
   "metadata": {
    "id": "MACkH28ElKxH"
   },
   "source": [
    "2. Select artists"
   ]
  },
  {
   "cell_type": "code",
   "execution_count": 67,
   "metadata": {
    "colab": {
     "base_uri": "https://localhost:8080/"
    },
    "executionInfo": {
     "elapsed": 229,
     "status": "ok",
     "timestamp": 1625157654410,
     "user": {
      "displayName": "Yves Moidja",
      "photoUrl": "",
      "userId": "13896130901347586883"
     },
     "user_tz": -120
    },
    "id": "14CDr9aWlX5o",
    "outputId": "e2f1a948-1985-4007-b8f3-ad2108d22ecc"
   },
   "outputs": [
    {
     "data": {
      "text/plain": [
       "[{'external_urls': {'spotify': 'https://open.spotify.com/artist/6l3HvQ5sa6mXTsMTB19rO5'},\n",
       "  'href': 'https://api.spotify.com/v1/artists/6l3HvQ5sa6mXTsMTB19rO5',\n",
       "  'id': '6l3HvQ5sa6mXTsMTB19rO5',\n",
       "  'name': 'J. Cole',\n",
       "  'type': 'artist',\n",
       "  'uri': 'spotify:artist:6l3HvQ5sa6mXTsMTB19rO5'}]"
      ]
     },
     "execution_count": 67,
     "metadata": {
      "tags": []
     },
     "output_type": "execute_result"
    }
   ],
   "source": [
    "name = [\"J Cole\"] #chosen artist\n",
    "result = sp.search(name) #search query\n",
    "result['tracks']['items'][2]['artists']\n"
   ]
  },
  {
   "cell_type": "markdown",
   "metadata": {
    "id": "YfklkUZawhwX"
   },
   "source": [
    "3. Extract spotify albums"
   ]
  },
  {
   "cell_type": "code",
   "execution_count": 68,
   "metadata": {
    "colab": {
     "base_uri": "https://localhost:8080/"
    },
    "executionInfo": {
     "elapsed": 215,
     "status": "ok",
     "timestamp": 1625157665543,
     "user": {
      "displayName": "Yves Moidja",
      "photoUrl": "",
      "userId": "13896130901347586883"
     },
     "user_tz": -120
    },
    "id": "xpvR-kM0wo_l",
    "outputId": "e11c730b-1f11-4808-a31e-14cd07fa60df"
   },
   "outputs": [
    {
     "data": {
      "text/plain": [
       "['spotify:album:4JAvwK4APPArjIsOdGoJXX',\n",
       " 'spotify:album:7amgMBFiedsknMot03NgQ4',\n",
       " 'spotify:album:5PerfGh9Smd6XjwkxpmL4V',\n",
       " 'spotify:album:09j4fiVEUB8XVPc7ObEVd2',\n",
       " 'spotify:album:2n3quCZ0anEa46j2IveacI',\n",
       " 'spotify:album:1S4SlK1zF0u22KeC1lDWzC',\n",
       " 'spotify:album:4Wv5UAieM1LDEYVq5WmqDd',\n",
       " 'spotify:album:4kXlVP6h1a5G3yGJ2E0gVI',\n",
       " 'spotify:album:3CCnGldVQ90c26aFATC1PW',\n",
       " 'spotify:album:3MNP6yEmCAFruLe7pAGKCu',\n",
       " 'spotify:album:1yZC8xZwv4gsmCZ4p4JWdI',\n",
       " 'spotify:album:7viNUmZZ8ztn2UB4XB3jIL',\n",
       " 'spotify:album:0yhTCWPZRYtLOa3tMcXsvG',\n",
       " 'spotify:album:1ptk2Jtcr40GKPYSnUl7l8',\n",
       " 'spotify:album:5FP9keIJnlSCKnkdVOf623',\n",
       " 'spotify:album:6FhFyGMPDbGjXXxXukKcnq',\n",
       " 'spotify:album:7fIFQLCN1UVfPORDPTdXW7',\n",
       " 'spotify:album:0fhmJYVhW0e4i33pCLPA5i',\n",
       " 'spotify:album:2JdKf6Pb34V6dcxLapXuUw',\n",
       " 'spotify:album:1e8cicPvrt3Kc26bKLarKI']"
      ]
     },
     "execution_count": 68,
     "metadata": {
      "tags": []
     },
     "output_type": "execute_result"
    }
   ],
   "source": [
    "#Extract Artist's uri\n",
    "artist_uri = result['tracks']['items'][0]['artists'][0]['uri']\n",
    "#Pull all of the artist's albums\n",
    "sp_albums = sp.artist_albums(artist_uri, album_type='album')\n",
    "#Store artist's albums' names' and uris in separate lists\n",
    "album_names = []\n",
    "album_uris = []\n",
    "for i in range(len(sp_albums['items'])):\n",
    "    album_names.append(sp_albums['items'][i]['name'])\n",
    "    album_uris.append(sp_albums['items'][i]['uri'])\n",
    "    \n",
    "album_names\n",
    "album_uris\n",
    "#Keep names and uris in same order to keep track of duplicate albums"
   ]
  },
  {
   "cell_type": "markdown",
   "metadata": {
    "id": "b-tT6cSUxwgk"
   },
   "source": [
    "4. Grab the songs from each album"
   ]
  },
  {
   "cell_type": "code",
   "execution_count": 69,
   "metadata": {
    "colab": {
     "base_uri": "https://localhost:8080/"
    },
    "executionInfo": {
     "elapsed": 1320,
     "status": "ok",
     "timestamp": 1625157673694,
     "user": {
      "displayName": "Yves Moidja",
      "photoUrl": "",
      "userId": "13896130901347586883"
     },
     "user_tz": -120
    },
    "id": "ai8w9Y7Ix04A",
    "outputId": "6834a9df-3ad8-458d-9b2c-6a46c1a3afad"
   },
   "outputs": [
    {
     "name": "stdout",
     "output_type": "stream",
     "text": [
      "Album The Off-Season songs has been added to spotify_albums dictionary\n",
      "Album The Off-Season songs has been added to spotify_albums dictionary\n",
      "Album Revenge Of The Dreamers III: Director's Cut songs has been added to spotify_albums dictionary\n",
      "Album Revenge Of The Dreamers III: Director's Cut songs has been added to spotify_albums dictionary\n",
      "Album Revenge Of The Dreamers III songs has been added to spotify_albums dictionary\n",
      "Album Revenge Of The Dreamers III songs has been added to spotify_albums dictionary\n",
      "Album KOD songs has been added to spotify_albums dictionary\n",
      "Album KOD songs has been added to spotify_albums dictionary\n",
      "Album 4 Your Eyez Only songs has been added to spotify_albums dictionary\n",
      "Album 4 Your Eyez Only songs has been added to spotify_albums dictionary\n",
      "Album Forest Hills Drive: Live from Fayetteville, NC songs has been added to spotify_albums dictionary\n",
      "Album 2014 Forest Hills Drive songs has been added to spotify_albums dictionary\n",
      "Album 2014 Forest Hills Drive songs has been added to spotify_albums dictionary\n",
      "Album The Blow Up songs has been added to spotify_albums dictionary\n",
      "Album Born Sinner (Deluxe Version) songs has been added to spotify_albums dictionary\n",
      "Album Born Sinner songs has been added to spotify_albums dictionary\n",
      "Album Born Sinner songs has been added to spotify_albums dictionary\n",
      "Album Cole World: The Sideline Story songs has been added to spotify_albums dictionary\n",
      "Album Cole World: The Sideline Story songs has been added to spotify_albums dictionary\n",
      "Album The Come Up songs has been added to spotify_albums dictionary\n"
     ]
    }
   ],
   "source": [
    "def albumSongs(uri):\n",
    "  album = uri #assign album uri to a_name\n",
    "  spotify_albums[album] = {} #Creates dictionary for that specific album\n",
    "  #Create keys-values of empty lists inside nested dictionary for album\n",
    "  spotify_albums[album]['album'] = [] #create empty list\n",
    "  spotify_albums[album]['track_number'] = []\n",
    "  spotify_albums[album]['id'] = []\n",
    "  spotify_albums[album]['name'] = []\n",
    "  spotify_albums[album]['uri'] = []\n",
    "  tracks = sp.album_tracks(album) #pull data on album tracks\n",
    "  for n in range(len(tracks['items'])): #for each song track\n",
    "        spotify_albums[album]['album'].append(album_names[album_count]) #append album name tracked via album_count\n",
    "        spotify_albums[album]['track_number'].append(tracks['items'][n]['track_number'])\n",
    "        spotify_albums[album]['id'].append(tracks['items'][n]['id'])\n",
    "        spotify_albums[album]['name'].append(tracks['items'][n]['name'])\n",
    "        spotify_albums[album]['uri'].append(tracks['items'][n]['uri'])\n",
    "\n",
    "# Create an empty dictionnary called to store albums data\n",
    "spotify_albums = {}\n",
    "album_count = 0\n",
    "for i in album_uris: #each album\n",
    "    albumSongs(i)\n",
    "    print(\"Album \" + str(album_names[album_count]) + \" songs has been added to spotify_albums dictionary\")\n",
    "    album_count+=1 #Updates album count once all tracks have been added\n"
   ]
  },
  {
   "cell_type": "markdown",
   "metadata": {
    "id": "JH9Z-K_28oL4"
   },
   "source": [
    "5. Grab audio features for each song"
   ]
  },
  {
   "cell_type": "code",
   "execution_count": 70,
   "metadata": {
    "executionInfo": {
     "elapsed": 218,
     "status": "ok",
     "timestamp": 1625157790123,
     "user": {
      "displayName": "Yves Moidja",
      "photoUrl": "",
      "userId": "13896130901347586883"
     },
     "user_tz": -120
    },
    "id": "qKz-jCZK8r7I"
   },
   "outputs": [],
   "source": [
    "def audio_features(album):\n",
    "    #Add new key-values to store audio features\n",
    "    spotify_albums[album]['acousticness'] = []\n",
    "    spotify_albums[album]['danceability'] = []\n",
    "    spotify_albums[album]['energy'] = []\n",
    "    spotify_albums[album]['instrumentalness'] = []\n",
    "    spotify_albums[album]['liveness'] = []\n",
    "    spotify_albums[album]['loudness'] = []\n",
    "    spotify_albums[album]['speechiness'] = []\n",
    "    spotify_albums[album]['tempo'] = []\n",
    "    spotify_albums[album]['valence'] = []\n",
    "    spotify_albums[album]['popularity'] = []\n",
    "    #create a track counter\n",
    "    track_count = 0\n",
    "    for track in spotify_albums[album]['uri']:\n",
    "        #pull audio features per track\n",
    "        features = sp.audio_features(track)\n",
    "        \n",
    "        #Append to relevant key-value\n",
    "        spotify_albums[album]['acousticness'].append(features[0]['acousticness'])\n",
    "        spotify_albums[album]['danceability'].append(features[0]['danceability'])\n",
    "        spotify_albums[album]['energy'].append(features[0]['energy'])\n",
    "        spotify_albums[album]['instrumentalness'].append(features[0]['instrumentalness'])\n",
    "        spotify_albums[album]['liveness'].append(features[0]['liveness'])\n",
    "        spotify_albums[album]['loudness'].append(features[0]['loudness'])\n",
    "        spotify_albums[album]['speechiness'].append(features[0]['speechiness'])\n",
    "        spotify_albums[album]['tempo'].append(features[0]['tempo'])\n",
    "        spotify_albums[album]['valence'].append(features[0]['valence'])\n",
    "        #popularity is stored elsewhere\n",
    "        pop = sp.track(track)\n",
    "        spotify_albums[album]['popularity'].append(pop['popularity'])\n",
    "        track_count+=1\n"
   ]
  },
  {
   "cell_type": "markdown",
   "metadata": {
    "id": "xU2tvW149gkJ"
   },
   "source": [
    "6. Loop through albums extracting the audio features"
   ]
  },
  {
   "cell_type": "code",
   "execution_count": 71,
   "metadata": {
    "colab": {
     "base_uri": "https://localhost:8080/"
    },
    "executionInfo": {
     "elapsed": 64686,
     "status": "ok",
     "timestamp": 1625158028155,
     "user": {
      "displayName": "Yves Moidja",
      "photoUrl": "",
      "userId": "13896130901347586883"
     },
     "user_tz": -120
    },
    "id": "Wbx2JCwf9iDA",
    "outputId": "be88673e-da57-4e13-dd5f-51f244f96c81"
   },
   "outputs": [
    {
     "name": "stdout",
     "output_type": "stream",
     "text": [
      "5 playlists completed\n",
      "Loop #: 5\n",
      "Elapsed Time: 22.6192626953125 seconds\n",
      "10 playlists completed\n",
      "Loop #: 10\n",
      "Elapsed Time: 35.605326652526855 seconds\n",
      "15 playlists completed\n",
      "Loop #: 15\n",
      "Elapsed Time: 45.866504192352295 seconds\n",
      "20 playlists completed\n",
      "Loop #: 20\n",
      "Elapsed Time: 64.45820474624634 seconds\n"
     ]
    }
   ],
   "source": [
    "import time\n",
    "import numpy as np\n",
    "sleep_min = 2\n",
    "sleep_max = 5\n",
    "start_time = time.time()\n",
    "request_count = 0\n",
    "for i in spotify_albums:\n",
    "    audio_features(i)\n",
    "    request_count+=1\n",
    "    if request_count % 5 == 0:\n",
    "        print(str(request_count) + \" playlists completed\")\n",
    "        time.sleep(np.random.uniform(sleep_min, sleep_max))\n",
    "        print('Loop #: {}'.format(request_count))\n",
    "        print('Elapsed Time: {} seconds'.format(time.time() - start_time))\n"
   ]
  },
  {
   "cell_type": "markdown",
   "metadata": {
    "id": "vwD3rbBR-LuD"
   },
   "source": [
    "7. Add data to a new dataframe"
   ]
  },
  {
   "cell_type": "code",
   "execution_count": 72,
   "metadata": {
    "colab": {
     "base_uri": "https://localhost:8080/"
    },
    "executionInfo": {
     "elapsed": 292,
     "status": "ok",
     "timestamp": 1625158135471,
     "user": {
      "displayName": "Yves Moidja",
      "photoUrl": "",
      "userId": "13896130901347586883"
     },
     "user_tz": -120
    },
    "id": "WMzMMmSA-Ncb",
    "outputId": "a2a19aed-3319-4757-8add-bf8e8d277161"
   },
   "outputs": [
    {
     "data": {
      "text/plain": [
       "317"
      ]
     },
     "execution_count": 72,
     "metadata": {
      "tags": []
     },
     "output_type": "execute_result"
    }
   ],
   "source": [
    "dic_df = {}\n",
    "dic_df['album'] = []\n",
    "dic_df['track_number'] = []\n",
    "dic_df['id'] = []\n",
    "dic_df['name'] = []\n",
    "dic_df['uri'] = []\n",
    "dic_df['acousticness'] = []\n",
    "dic_df['danceability'] = []\n",
    "dic_df['energy'] = []\n",
    "dic_df['instrumentalness'] = []\n",
    "dic_df['liveness'] = []\n",
    "dic_df['loudness'] = []\n",
    "dic_df['speechiness'] = []\n",
    "dic_df['tempo'] = []\n",
    "dic_df['valence'] = []\n",
    "dic_df['popularity'] = []\n",
    "for album in spotify_albums: \n",
    "    for feature in spotify_albums[album]:\n",
    "        dic_df[feature].extend(spotify_albums[album][feature])\n",
    "        \n",
    "len(dic_df['album'])\n"
   ]
  },
  {
   "cell_type": "markdown",
   "metadata": {
    "id": "KaSiJGw_-WlO"
   },
   "source": [
    "8. Convert into dataframe"
   ]
  },
  {
   "cell_type": "code",
   "execution_count": 73,
   "metadata": {
    "colab": {
     "base_uri": "https://localhost:8080/",
     "height": 842
    },
    "executionInfo": {
     "elapsed": 220,
     "status": "ok",
     "timestamp": 1625158169784,
     "user": {
      "displayName": "Yves Moidja",
      "photoUrl": "",
      "userId": "13896130901347586883"
     },
     "user_tz": -120
    },
    "id": "NbJOPHhr-X4g",
    "outputId": "c9f33861-0e0b-447b-fad8-007c2c51d163"
   },
   "outputs": [
    {
     "data": {
      "text/html": [
       "<div>\n",
       "<style scoped>\n",
       "    .dataframe tbody tr th:only-of-type {\n",
       "        vertical-align: middle;\n",
       "    }\n",
       "\n",
       "    .dataframe tbody tr th {\n",
       "        vertical-align: top;\n",
       "    }\n",
       "\n",
       "    .dataframe thead th {\n",
       "        text-align: right;\n",
       "    }\n",
       "</style>\n",
       "<table border=\"1\" class=\"dataframe\">\n",
       "  <thead>\n",
       "    <tr style=\"text-align: right;\">\n",
       "      <th></th>\n",
       "      <th>album</th>\n",
       "      <th>track_number</th>\n",
       "      <th>id</th>\n",
       "      <th>name</th>\n",
       "      <th>uri</th>\n",
       "      <th>acousticness</th>\n",
       "      <th>danceability</th>\n",
       "      <th>energy</th>\n",
       "      <th>instrumentalness</th>\n",
       "      <th>liveness</th>\n",
       "      <th>loudness</th>\n",
       "      <th>speechiness</th>\n",
       "      <th>tempo</th>\n",
       "      <th>valence</th>\n",
       "      <th>popularity</th>\n",
       "    </tr>\n",
       "  </thead>\n",
       "  <tbody>\n",
       "    <tr>\n",
       "      <th>0</th>\n",
       "      <td>The Off-Season</td>\n",
       "      <td>1</td>\n",
       "      <td>5R691ipUYRDYW6ehapjoj6</td>\n",
       "      <td>9 5 . s o u t h</td>\n",
       "      <td>spotify:track:5R691ipUYRDYW6ehapjoj6</td>\n",
       "      <td>0.2710</td>\n",
       "      <td>0.713</td>\n",
       "      <td>0.793</td>\n",
       "      <td>0.0</td>\n",
       "      <td>0.727</td>\n",
       "      <td>-5.277</td>\n",
       "      <td>0.397</td>\n",
       "      <td>71.724</td>\n",
       "      <td>0.2030</td>\n",
       "      <td>81</td>\n",
       "    </tr>\n",
       "    <tr>\n",
       "      <th>1</th>\n",
       "      <td>The Off-Season</td>\n",
       "      <td>2</td>\n",
       "      <td>2cnKST6T9qUo2i907lm8zX</td>\n",
       "      <td>a m a r i</td>\n",
       "      <td>spotify:track:2cnKST6T9qUo2i907lm8zX</td>\n",
       "      <td>0.1270</td>\n",
       "      <td>0.725</td>\n",
       "      <td>0.713</td>\n",
       "      <td>0.0</td>\n",
       "      <td>0.617</td>\n",
       "      <td>-6.173</td>\n",
       "      <td>0.187</td>\n",
       "      <td>65.988</td>\n",
       "      <td>0.2070</td>\n",
       "      <td>85</td>\n",
       "    </tr>\n",
       "    <tr>\n",
       "      <th>2</th>\n",
       "      <td>The Off-Season</td>\n",
       "      <td>3</td>\n",
       "      <td>1D3z6HTiQsNmZxjl7F7eoG</td>\n",
       "      <td>m y . l i f e (with 21 Savage &amp; Morray)</td>\n",
       "      <td>spotify:track:1D3z6HTiQsNmZxjl7F7eoG</td>\n",
       "      <td>0.0622</td>\n",
       "      <td>0.597</td>\n",
       "      <td>0.587</td>\n",
       "      <td>0.0</td>\n",
       "      <td>0.214</td>\n",
       "      <td>-7.026</td>\n",
       "      <td>0.137</td>\n",
       "      <td>140.021</td>\n",
       "      <td>0.0753</td>\n",
       "      <td>87</td>\n",
       "    </tr>\n",
       "    <tr>\n",
       "      <th>3</th>\n",
       "      <td>The Off-Season</td>\n",
       "      <td>4</td>\n",
       "      <td>1d7q712nXjG98HiwHk7HFS</td>\n",
       "      <td>a p p l y i n g . p r e s s u r e</td>\n",
       "      <td>spotify:track:1d7q712nXjG98HiwHk7HFS</td>\n",
       "      <td>0.0814</td>\n",
       "      <td>0.699</td>\n",
       "      <td>0.759</td>\n",
       "      <td>0.0</td>\n",
       "      <td>0.312</td>\n",
       "      <td>-5.302</td>\n",
       "      <td>0.311</td>\n",
       "      <td>83.092</td>\n",
       "      <td>0.4040</td>\n",
       "      <td>78</td>\n",
       "    </tr>\n",
       "    <tr>\n",
       "      <th>4</th>\n",
       "      <td>The Off-Season</td>\n",
       "      <td>5</td>\n",
       "      <td>57ZUX6TNyKLBydAdVVd02x</td>\n",
       "      <td>p u n c h i n ‘ . t h e . c l o c k</td>\n",
       "      <td>spotify:track:57ZUX6TNyKLBydAdVVd02x</td>\n",
       "      <td>0.1970</td>\n",
       "      <td>0.769</td>\n",
       "      <td>0.740</td>\n",
       "      <td>0.0</td>\n",
       "      <td>0.171</td>\n",
       "      <td>-6.579</td>\n",
       "      <td>0.378</td>\n",
       "      <td>94.104</td>\n",
       "      <td>0.6920</td>\n",
       "      <td>77</td>\n",
       "    </tr>\n",
       "    <tr>\n",
       "      <th>...</th>\n",
       "      <td>...</td>\n",
       "      <td>...</td>\n",
       "      <td>...</td>\n",
       "      <td>...</td>\n",
       "      <td>...</td>\n",
       "      <td>...</td>\n",
       "      <td>...</td>\n",
       "      <td>...</td>\n",
       "      <td>...</td>\n",
       "      <td>...</td>\n",
       "      <td>...</td>\n",
       "      <td>...</td>\n",
       "      <td>...</td>\n",
       "      <td>...</td>\n",
       "      <td>...</td>\n",
       "    </tr>\n",
       "    <tr>\n",
       "      <th>312</th>\n",
       "      <td>The Come Up</td>\n",
       "      <td>14</td>\n",
       "      <td>3Tfo3wrVM1hPJobHWiLMKS</td>\n",
       "      <td>Carolina On My Mind</td>\n",
       "      <td>spotify:track:3Tfo3wrVM1hPJobHWiLMKS</td>\n",
       "      <td>0.2880</td>\n",
       "      <td>0.350</td>\n",
       "      <td>0.529</td>\n",
       "      <td>0.0</td>\n",
       "      <td>0.160</td>\n",
       "      <td>-12.241</td>\n",
       "      <td>0.191</td>\n",
       "      <td>164.792</td>\n",
       "      <td>0.5410</td>\n",
       "      <td>29</td>\n",
       "    </tr>\n",
       "    <tr>\n",
       "      <th>313</th>\n",
       "      <td>The Come Up</td>\n",
       "      <td>15</td>\n",
       "      <td>7jKNXf01cKMs9ChaTVArwQ</td>\n",
       "      <td>Can't Cry</td>\n",
       "      <td>spotify:track:7jKNXf01cKMs9ChaTVArwQ</td>\n",
       "      <td>0.1560</td>\n",
       "      <td>0.481</td>\n",
       "      <td>0.601</td>\n",
       "      <td>0.0</td>\n",
       "      <td>0.280</td>\n",
       "      <td>-11.598</td>\n",
       "      <td>0.392</td>\n",
       "      <td>73.447</td>\n",
       "      <td>0.3700</td>\n",
       "      <td>33</td>\n",
       "    </tr>\n",
       "    <tr>\n",
       "      <th>314</th>\n",
       "      <td>The Come Up</td>\n",
       "      <td>16</td>\n",
       "      <td>61Z5RMvhwCzoZfvAzMmATn</td>\n",
       "      <td>Goin Off</td>\n",
       "      <td>spotify:track:61Z5RMvhwCzoZfvAzMmATn</td>\n",
       "      <td>0.3240</td>\n",
       "      <td>0.755</td>\n",
       "      <td>0.553</td>\n",
       "      <td>0.0</td>\n",
       "      <td>0.169</td>\n",
       "      <td>-10.947</td>\n",
       "      <td>0.324</td>\n",
       "      <td>91.014</td>\n",
       "      <td>0.2060</td>\n",
       "      <td>26</td>\n",
       "    </tr>\n",
       "    <tr>\n",
       "      <th>315</th>\n",
       "      <td>The Come Up</td>\n",
       "      <td>17</td>\n",
       "      <td>2fO5nU9GmjFEsKtYoSg2zB</td>\n",
       "      <td>Get It</td>\n",
       "      <td>spotify:track:2fO5nU9GmjFEsKtYoSg2zB</td>\n",
       "      <td>0.2320</td>\n",
       "      <td>0.646</td>\n",
       "      <td>0.634</td>\n",
       "      <td>0.0</td>\n",
       "      <td>0.189</td>\n",
       "      <td>-13.060</td>\n",
       "      <td>0.359</td>\n",
       "      <td>82.534</td>\n",
       "      <td>0.5050</td>\n",
       "      <td>26</td>\n",
       "    </tr>\n",
       "    <tr>\n",
       "      <th>316</th>\n",
       "      <td>The Come Up</td>\n",
       "      <td>18</td>\n",
       "      <td>4Ou7OfkFRlR4HJ6NCG0mpL</td>\n",
       "      <td>I Do My Thing</td>\n",
       "      <td>spotify:track:4Ou7OfkFRlR4HJ6NCG0mpL</td>\n",
       "      <td>0.5820</td>\n",
       "      <td>0.583</td>\n",
       "      <td>0.466</td>\n",
       "      <td>0.0</td>\n",
       "      <td>0.200</td>\n",
       "      <td>-13.989</td>\n",
       "      <td>0.439</td>\n",
       "      <td>70.030</td>\n",
       "      <td>0.7120</td>\n",
       "      <td>28</td>\n",
       "    </tr>\n",
       "  </tbody>\n",
       "</table>\n",
       "<p>317 rows × 15 columns</p>\n",
       "</div>"
      ],
      "text/plain": [
       "              album  track_number  ... valence popularity\n",
       "0    The Off-Season             1  ...  0.2030         81\n",
       "1    The Off-Season             2  ...  0.2070         85\n",
       "2    The Off-Season             3  ...  0.0753         87\n",
       "3    The Off-Season             4  ...  0.4040         78\n",
       "4    The Off-Season             5  ...  0.6920         77\n",
       "..              ...           ...  ...     ...        ...\n",
       "312     The Come Up            14  ...  0.5410         29\n",
       "313     The Come Up            15  ...  0.3700         33\n",
       "314     The Come Up            16  ...  0.2060         26\n",
       "315     The Come Up            17  ...  0.5050         26\n",
       "316     The Come Up            18  ...  0.7120         28\n",
       "\n",
       "[317 rows x 15 columns]"
      ]
     },
     "execution_count": 73,
     "metadata": {
      "tags": []
     },
     "output_type": "execute_result"
    }
   ],
   "source": [
    "import pandas as pd\n",
    "df = pd.DataFrame.from_dict(dic_df)\n",
    "df\n"
   ]
  },
  {
   "cell_type": "markdown",
   "metadata": {
    "id": "x1aDlpww-6TW"
   },
   "source": [
    "9. Remove duplicates"
   ]
  },
  {
   "cell_type": "code",
   "execution_count": 74,
   "metadata": {
    "colab": {
     "base_uri": "https://localhost:8080/"
    },
    "executionInfo": {
     "elapsed": 230,
     "status": "ok",
     "timestamp": 1625158331920,
     "user": {
      "displayName": "Yves Moidja",
      "photoUrl": "",
      "userId": "13896130901347586883"
     },
     "user_tz": -120
    },
    "id": "L9uf96FM_B9a",
    "outputId": "65b4d52a-695a-43f9-a170-b6d2cf2ee0e2"
   },
   "outputs": [
    {
     "name": "stdout",
     "output_type": "stream",
     "text": [
      "317\n",
      "171\n"
     ]
    }
   ],
   "source": [
    "print(len(df))\n",
    "final_df = df.sort_values('popularity', ascending=False).drop_duplicates('name').sort_index()\n",
    "print(len(final_df))\n"
   ]
  },
  {
   "cell_type": "markdown",
   "metadata": {
    "id": "MqHiwZr7_KuF"
   },
   "source": [
    "10. Save to CSV"
   ]
  },
  {
   "cell_type": "code",
   "execution_count": 94,
   "metadata": {
    "executionInfo": {
     "elapsed": 320,
     "status": "ok",
     "timestamp": 1625159970880,
     "user": {
      "displayName": "Yves Moidja",
      "photoUrl": "",
      "userId": "13896130901347586883"
     },
     "user_tz": -120
    },
    "id": "geaiFsCm_M5T"
   },
   "outputs": [],
   "source": [
    "final_df.to_csv(\"jcole_songs.csv\")\n"
   ]
  },
  {
   "cell_type": "code",
   "execution_count": null,
   "metadata": {},
   "outputs": [],
   "source": [
    "# Source Code:\n",
    "# https://rareloot.medium.com/extracting-spotify-data-on-your-favourite-artist-via-python-d58bc92a4330\n",
    "# https://developer.spotify.com/documentation/general/guides/authorization-guide/#authorization-code-flow\n",
    "# https://spotipy.readthedocs.io/en/2.18.0/"
   ]
  }
 ],
 "metadata": {
  "colab": {
   "authorship_tag": "ABX9TyPWOUWrfzJjmyivtSFXGzQE",
   "name": "Extracting Spotify Data.ipynb",
   "provenance": []
  },
  "kernelspec": {
   "display_name": "Python 3",
   "language": "python",
   "name": "python3"
  },
  "language_info": {
   "codemirror_mode": {
    "name": "ipython",
    "version": 3
   },
   "file_extension": ".py",
   "mimetype": "text/x-python",
   "name": "python",
   "nbconvert_exporter": "python",
   "pygments_lexer": "ipython3",
   "version": "3.8.5"
  }
 },
 "nbformat": 4,
 "nbformat_minor": 1
}
